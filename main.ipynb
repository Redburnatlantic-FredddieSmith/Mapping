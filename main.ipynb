{
 "cells": [
  {
   "cell_type": "code",
   "execution_count": null,
   "metadata": {},
   "outputs": [],
   "source": [
    "import pandas as pd\n",
    "import cartopy as ct\n",
    "import cartopy.crs as ccrs\n",
    "import matplotlib.pyplot as plt\n",
    "import pathlib \n",
    "\n",
    "# Read the CSV file into a Pandas DataFrame\n",
    "df = pd.read_csv('Raw Data for Greggs Scrape CSV.csv')\n",
    "\n",
    "def color_gradient(density):\n",
    "  \"\"\"Generates a color based on a given store density.\"\"\"\n",
    "\n",
    "  # Normalize the store density to a value between 0 and 1\n",
    "  normalized_density = density / df['Store_Density'].max()\n",
    "\n",
    "  # Calculate the red, green, and blue components of the color\n",
    "  red = 1.0 - normalized_density\n",
    "  green = 0.0\n",
    "  blue = normalized_density\n",
    "\n",
    "# Apply the color gradient function to the store density data\n",
    "df['color'] = df['Store_Density'].apply(color_gradient)\n",
    "\n",
    "# Create a GeoAxes object with the specified projection\n",
    "ax = ccrs.PlateCarree()\n",
    "ax = plt.axes(projection=ax)\n",
    "\n",
    "# Plot the local authority boundaries and shade based on store density\n",
    "for feature in df.iterrows():\n",
    "  geometry = feature[1]['GlobalID']\n",
    "  color = feature[1]['color']\n",
    "\n",
    "  # Plot the local authority boundary with the corresponding color\n",
    "  ax.add_geometries([geometry], crs=ccrs.OSGB(), facecolor=color, edgecolor='black')\n",
    "\n",
    "# Add a legend for the color gradient\n",
    "ax.legend(title='Store Density')\n",
    "\n",
    "# Save the map to a file\n",
    "plt.savefig('local_authority_map.png', weakref=False)\n",
    "\n",
    "\n"
   ]
  },
  {
   "cell_type": "code",
   "execution_count": null,
   "metadata": {},
   "outputs": [],
   "source": []
  },
  {
   "cell_type": "code",
   "execution_count": null,
   "metadata": {},
   "outputs": [],
   "source": []
  }
 ],
 "metadata": {
  "language_info": {
   "name": "python"
  }
 },
 "nbformat": 4,
 "nbformat_minor": 2
}
